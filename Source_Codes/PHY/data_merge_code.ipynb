{
 "cells": [
  {
   "cell_type": "markdown",
   "id": "d59d960b",
   "metadata": {},
   "source": [
    "# (1) 금리 데이터 merge"
   ]
  },
  {
   "cell_type": "code",
   "execution_count": null,
   "id": "70fd6223",
   "metadata": {},
   "outputs": [],
   "source": [
    "data = pd.read_csv('/Users/parkhyuniee/Desktop/IM/project_data/capital_data.csv')"
   ]
  },
  {
   "cell_type": "code",
   "execution_count": null,
   "id": "e66c5fe8",
   "metadata": {},
   "outputs": [],
   "source": [
    "rate_data = pd.read_csv('/Users/parkhyuniee/Desktop/IM/project_data/한국은행 기준금리 및 여수신금리_06105056.csv')\n",
    "\n",
    "# 거래년월을 datetime으로 변환하고, 연도와 분기 추출\n",
    "data['거래년월'] = pd.to_datetime(data['거래년월'])\n",
    "data['연도'] = data['거래년월'].dt.year\n",
    "data['분기'] = data['거래년월'].dt.quarter\n",
    "\n",
    "# 연도와 분기를 기준으로 매칭하기 위해 새로운 열 '연도/분기' 생성\n",
    "data['연도_분기'] = data['연도'].astype(str) + '/Q' + data['분기'].astype(str)\n",
    "\n",
    "# 금리 데이터에서도 같은 형식으로 '연도/분기' 열을 생성\n",
    "rate_data = rate_data.melt(id_vars=['통계표', '계정항목', '단위', '변환'], var_name='연도_분기', value_name='금리')\n",
    "\n",
    "# 필요한 금리 데이터만 필터링 (예: '한국은행 기준금리')\n",
    "target_rate_data = rate_data[rate_data['계정항목'] == '한국은행 기준금리'][['연도_분기', '금리']]\n",
    "\n",
    "# 이미지 데이터와 금리 데이터를 '연도/분기'를 기준으로 병합\n",
    "merged_data = pd.merge(data, target_rate_data, on='연도_분기', how='left')\n",
    "\n",
    "# 결과 출력\n",
    "merged_data.head()"
   ]
  },
  {
   "cell_type": "code",
   "execution_count": null,
   "id": "d598ad71",
   "metadata": {},
   "outputs": [],
   "source": [
    "# 연도_분기에서 '/' 제거\n",
    "merged_data['연도_분기'] = merged_data['연도_분기'].str.replace('/', '')"
   ]
  },
  {
   "cell_type": "code",
   "execution_count": null,
   "id": "52a4025b",
   "metadata": {},
   "outputs": [],
   "source": [
    "merged_data.to_csv('/Users/parkhyuniee/Desktop/IM/project_data/IR_merged_data.csv', index=False)"
   ]
  },
  {
   "cell_type": "markdown",
   "id": "9ccda8f0",
   "metadata": {},
   "source": [
    "# (2) 소비자심리지수 merge"
   ]
  },
  {
   "cell_type": "code",
   "execution_count": null,
   "id": "bd2fa46c",
   "metadata": {},
   "outputs": [],
   "source": [
    "cus_psy_data = pd.read_csv('/Users/parkhyuniee/Desktop/IM/project_data/cus_psy_data.csv')\n",
    "IR_merged_data =  pd.read_csv('/Users/parkhyuniee/Desktop/IM/project_data/IR_merged_data.csv')"
   ]
  },
  {
   "cell_type": "code",
   "execution_count": null,
   "id": "240e108a",
   "metadata": {},
   "outputs": [],
   "source": [
    "cus_psy_merged_data = pd.merge(IR_merged_data, cus_psy_data, on='연도_분기', how='left')"
   ]
  },
  {
   "cell_type": "markdown",
   "id": "c00f7bfc",
   "metadata": {},
   "source": [
    "# (3) 인구 데이터 merge"
   ]
  },
  {
   "cell_type": "code",
   "execution_count": null,
   "id": "7175db1a",
   "metadata": {},
   "outputs": [],
   "source": [
    "population_data =pd.read_csv('/Users/parkhyuniee/Desktop/IM/project_data/population_data.csv')"
   ]
  },
  {
   "cell_type": "markdown",
   "id": "b7733a5d",
   "metadata": {},
   "source": [
    "### 1. 자택인구 기준으로 붙이기 "
   ]
  },
  {
   "cell_type": "code",
   "execution_count": null,
   "id": "f5817fad",
   "metadata": {},
   "outputs": [],
   "source": [
    "cus_psy_merged_data['자택_시도'] = cus_psy_merged_data['자택_시도'].astype(str)\n",
    "cus_psy_merged_data['자택_시군구'] = cus_psy_merged_data['자택_시군구'].astype(str)\n",
    "cus_psy_merged_data['년도'] = cus_psy_merged_data['년도'].astype(str)\n",
    "\n",
    "population_data['자택_시도'] = population_data['자택_시도'].astype(str)\n",
    "population_data['자택_시군구'] = population_data['자택_시군구'].astype(str)\n",
    "population_data['년도'] = population_data['년도'].astype(str)\n",
    "\n",
    "# 자택_시도, 자택_시군구, 년도를 기준으로 병합\n",
    "final_data = pd.merge(\n",
    "    cus_psy_merged_data,\n",
    "    population_data,\n",
    "    on=['자택_시도', '자택_시군구', '년도'],  # 병합 기준 열\n",
    "    how='left'                                # left join 사용\n",
    ")\n",
    "\n",
    "# 결과 확인\n",
    "final_data.head()"
   ]
  },
  {
   "cell_type": "code",
   "execution_count": null,
   "id": "b6ac96e8",
   "metadata": {},
   "outputs": [],
   "source": [
    "# column name 변경\n",
    "population_data.rename(columns={'가맹점_광역시도': '자택_시도'},inplace=True)\n",
    "population_data.rename(columns={'가맹점_시군구': '자택_시군구'},inplace=True)"
   ]
  },
  {
   "cell_type": "markdown",
   "id": "7feba64f",
   "metadata": {},
   "source": [
    "### 2. 가맹점 인구 기준으로 붙이기"
   ]
  },
  {
   "cell_type": "code",
   "execution_count": null,
   "id": "fdc1bb82",
   "metadata": {},
   "outputs": [],
   "source": [
    "final_data['가맹점_광역시도'] = final_data['가맹점_광역시도'].astype(str)\n",
    "final_data['가맹점_시군구'] = final_data['가맹점_시군구'].astype(str)\n",
    "final_data['년도'] = final_data['년도'].astype(str)\n",
    "\n",
    "population_data['가맹점_광역시도'] = population_data['가맹점_광역시도'].astype(str)\n",
    "population_data['가맹점_시군구'] = population_data['가맹점_시군구'].astype(str)\n",
    "population_data['년도'] = population_data['년도'].astype(str)\n",
    "\n",
    "# 자택_시도, 자택_시군구, 년도를 기준으로 병합\n",
    "r_final_data = pd.merge(\n",
    "    final_data,\n",
    "    population_data,\n",
    "    on=['가맹점_광역시도', '가맹점_시군구', '년도'],  # 병합 기준 열\n",
    "    how='left'                                # left join 사용\n",
    ")\n",
    "\n",
    "# 결과 확인\n",
    "r_final_data.head()"
   ]
  },
  {
   "cell_type": "code",
   "execution_count": null,
   "id": "ef81a4bd",
   "metadata": {},
   "outputs": [],
   "source": [
    "r_final_data = r_final_data.rename(columns={'인구_y': '가맹점_인구'})\n",
    "r_final_data = r_final_data.rename(columns={'인구_x': '자택_인구'})"
   ]
  },
  {
   "cell_type": "code",
   "execution_count": null,
   "id": "26b97aed",
   "metadata": {},
   "outputs": [],
   "source": [
    "r_final_data.to_csv('/Users/parkhyuniee/Desktop/IM/project_data/final_data.csv', index = False)"
   ]
  },
  {
   "cell_type": "markdown",
   "id": "81ea0dea",
   "metadata": {},
   "source": [
    "# (4) 지역에서 '시'까지만 남기고 '구' 제거\n"
   ]
  },
  {
   "cell_type": "code",
   "execution_count": null,
   "id": "c615125f",
   "metadata": {},
   "outputs": [],
   "source": [
    "# 전체 데이터에서 제거\n",
    "r_final_data['가맹점_시군구'] = r_final_data['가맹점_시군구'].str.replace(r'시\\s.*구', '시', regex=True)\n",
    "r_final_data['자택_시군구'] = r_final_data['자택_시군구'].str.replace(r'시\\s.*구', '시', regex=True)"
   ]
  },
  {
   "cell_type": "code",
   "execution_count": null,
   "id": "052efe48",
   "metadata": {},
   "outputs": [],
   "source": [
    "# 인구 데이터에서 제거 \n",
    "population_data['가맹점_시군구'] = population_data['가맹점_시군구'].str.replace(r'시\\s.*구', '시', regex=True)"
   ]
  }
 ],
 "metadata": {
  "kernelspec": {
   "display_name": "Python 3 (ipykernel)",
   "language": "python",
   "name": "python3"
  },
  "language_info": {
   "codemirror_mode": {
    "name": "ipython",
    "version": 3
   },
   "file_extension": ".py",
   "mimetype": "text/x-python",
   "name": "python",
   "nbconvert_exporter": "python",
   "pygments_lexer": "ipython3",
   "version": "3.12.6"
  }
 },
 "nbformat": 4,
 "nbformat_minor": 5
}
